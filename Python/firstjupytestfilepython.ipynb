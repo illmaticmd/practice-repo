{
 "cells": [
  {
   "cell_type": "code",
   "execution_count": 1,
   "id": "5304e9ac",
   "metadata": {},
   "outputs": [
    {
     "data": {
      "text/plain": [
       "2"
      ]
     },
     "execution_count": 1,
     "metadata": {},
     "output_type": "execute_result"
    }
   ],
   "source": [
    "1+1"
   ]
  },
  {
   "cell_type": "markdown",
   "id": "60a18653",
   "metadata": {},
   "source": [
    "Nice!\n",
    "# OKAY!"
   ]
  },
  {
   "cell_type": "markdown",
   "id": "48c605a1",
   "metadata": {},
   "source": [
    "My Factorial using Recursion "
   ]
  },
  {
   "cell_type": "code",
   "execution_count": null,
   "id": "5908444b",
   "metadata": {},
   "outputs": [],
   "source": [
    "def facNumbers(i):\n",
    "    if i == 0:\n",
    "        return 0\n",
    "    #somehow this works.\n",
    "    elif i == 1:\n",
    "        return 1\n",
    "    return i * facNumbers(i - 1)\n",
    "    \n",
    "facNumbers(9)"
   ]
  }
 ],
 "metadata": {
  "kernelspec": {
   "display_name": "Python 3 (ipykernel)",
   "language": "python",
   "name": "python3"
  },
  "language_info": {
   "codemirror_mode": {
    "name": "ipython",
    "version": 3
   },
   "file_extension": ".py",
   "mimetype": "text/x-python",
   "name": "python",
   "nbconvert_exporter": "python",
   "pygments_lexer": "ipython3",
   "version": "3.10.3"
  }
 },
 "nbformat": 4,
 "nbformat_minor": 5
}
